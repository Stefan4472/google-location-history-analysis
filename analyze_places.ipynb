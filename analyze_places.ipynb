{
 "cells": [
  {
   "cell_type": "markdown",
   "id": "847367d4",
   "metadata": {},
   "source": [
    "# Places Analysis\n",
    "In this notebook we'll do some analysis of the Google \"PlaceVisit\" data using pandas. We'll plot our results using Matplotlib."
   ]
  },
  {
   "cell_type": "code",
   "execution_count": 3,
   "id": "26f6f8cc",
   "metadata": {},
   "outputs": [],
   "source": [
    "%matplotlib inline\n",
    "import pandas as pd"
   ]
  },
  {
   "cell_type": "code",
   "execution_count": 4,
   "id": "60263c3f",
   "metadata": {
    "scrolled": true
   },
   "outputs": [
    {
     "name": "stdout",
     "output_type": "stream",
     "text": [
      "Data has 2586 rows and 8 columns\n",
      "<class 'pandas.core.frame.DataFrame'>\n",
      "RangeIndex: 2586 entries, 0 to 2585\n",
      "Data columns (total 8 columns):\n",
      " #   Column           Non-Null Count  Dtype              \n",
      "---  ------           --------------  -----              \n",
      " 0   lat_e7           2586 non-null   int64              \n",
      " 1   lon_e7           2586 non-null   int64              \n",
      " 2   address          2582 non-null   object             \n",
      " 3   name             1469 non-null   object             \n",
      " 4   place_id         2586 non-null   object             \n",
      " 5   start_timestamp  2586 non-null   datetime64[ns, UTC]\n",
      " 6   end_timestamp    2586 non-null   datetime64[ns, UTC]\n",
      " 7   confidence       2586 non-null   object             \n",
      "dtypes: datetime64[ns, UTC](2), int64(2), object(4)\n",
      "memory usage: 161.8+ KB\n"
     ]
    }
   ],
   "source": [
    "# Set this to the name of your places file\n",
    "PLACES_PATH = 'places.csv'\n",
    "# TODO: allow setting start and end date\n",
    "places = pd.read_csv(PLACES_PATH, sep='|', encoding='utf-8', parse_dates=['start_timestamp', 'end_timestamp'])\n",
    "print(f'Data has {places.shape[0]} rows and {places.shape[1]} columns')\n",
    "places.info()"
   ]
  },
  {
   "cell_type": "code",
   "execution_count": 5,
   "id": "c877376a",
   "metadata": {},
   "outputs": [
    {
     "name": "stdout",
     "output_type": "stream",
     "text": [
      "Top ten places, by number of records\n"
     ]
    },
    {
     "data": {
      "text/plain": [
       "Tennis club Augsburg e.V.      135\n",
       "rutaNatur                       56\n",
       "GALERIA Augsburg                54\n",
       "GALERIA (Karstadt) Augsburg     49\n",
       "Munich Central Station          46\n",
       "Augsburg                        41\n",
       "Augsburg Bohus Center           28\n",
       "QPLIX GmbH                      26\n",
       "REWE                            26\n",
       "Königsplatz                     25\n",
       "Name: name, dtype: int64"
      ]
     },
     "execution_count": 5,
     "metadata": {},
     "output_type": "execute_result"
    }
   ],
   "source": [
    "print('Top ten places, by number of records')\n",
    "places['name'].value_counts()[:10]"
   ]
  },
  {
   "cell_type": "code",
   "execution_count": 9,
   "id": "88fcfc18",
   "metadata": {},
   "outputs": [
    {
     "name": "stdout",
     "output_type": "stream",
     "text": [
      "Top ten places, by duration:\n"
     ]
    },
    {
     "data": {
      "text/plain": [
       "address\n",
       "Beethovenstraße 3, 86150 Augsburg, Deutschland                 383 days 17:02:22.616000\n",
       "Oblatterwallstraße 58, 86153 Augsburg, Deutschland              67 days 15:29:45.961000\n",
       "5 Ledgelawn Ave, Lexington, MA 02420, USA                       21 days 21:57:42.557000\n",
       "4 Rue Andrioli, 06000 Nice, France                              17 days 18:10:13.066000\n",
       "Landwehrstraße 25, 97070 Würzburg, Deutschland                  12 days 05:51:46.251000\n",
       "Alteneschstraße 15, 26135 Oldenburg, Deutschland                10 days 08:31:30.548000\n",
       "Professor-Steinbacher-Straße 6A, 86161 Augsburg, Deutschland     8 days 23:42:13.158000\n",
       "Nußbaumstraße 12, 80336 München, Deutschland                     4 days 16:18:07.514000\n",
       "Bauernfeindstraße 26, 86159 Augsburg, Deutschland                3 days 08:01:41.500000\n",
       "Oberes Feld 4, 6071 Aldrans, Österreich                          3 days 01:13:58.843000\n",
       "Name: duration, dtype: timedelta64[ns]"
      ]
     },
     "execution_count": 9,
     "metadata": {},
     "output_type": "execute_result"
    }
   ],
   "source": [
    "# Calculate time spent per place.\n",
    "# Note: this may provide seemingly strange results. \n",
    "# Personal addresses (where you live) likely don't have a \"name\", and\n",
    "# therefore won't show up in the results. To see them, group by 'address'\n",
    "print('Top ten places, by duration:')\n",
    "places['duration'] = places['end_timestamp'] - places['start_timestamp']\n",
    "time_spent = places.groupby('name')['duration'].sum()\n",
    "time_spent.sort_values(inplace=True, ascending=False)\n",
    "time_spent[:10]"
   ]
  },
  {
   "cell_type": "code",
   "execution_count": null,
   "id": "00219315",
   "metadata": {},
   "outputs": [],
   "source": [
    "# TODO: countries"
   ]
  }
 ],
 "metadata": {
  "kernelspec": {
   "display_name": "Python 3 (ipykernel)",
   "language": "python",
   "name": "python3"
  },
  "language_info": {
   "codemirror_mode": {
    "name": "ipython",
    "version": 3
   },
   "file_extension": ".py",
   "mimetype": "text/x-python",
   "name": "python",
   "nbconvert_exporter": "python",
   "pygments_lexer": "ipython3",
   "version": "3.9.13"
  }
 },
 "nbformat": 4,
 "nbformat_minor": 5
}
