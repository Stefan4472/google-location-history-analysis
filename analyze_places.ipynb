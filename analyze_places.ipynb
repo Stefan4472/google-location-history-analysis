{
 "cells": [
  {
   "cell_type": "markdown",
   "id": "847367d4",
   "metadata": {},
   "source": [
    "# Places Analysis\n",
    "In this notebook we'll do some analysis of the Google \"PlaceVisit\" data using pandas. We'll plot our results using Matplotlib."
   ]
  },
  {
   "cell_type": "code",
   "execution_count": 12,
   "id": "26f6f8cc",
   "metadata": {},
   "outputs": [],
   "source": [
    "%matplotlib inline\n",
    "import pandas as pd\n",
    "from datetime import date"
   ]
  },
  {
   "cell_type": "code",
   "execution_count": 45,
   "id": "60263c3f",
   "metadata": {
    "scrolled": true
   },
   "outputs": [],
   "source": [
    "\"\"\"Configuration\"\"\"\n",
    "# Set this to the name of your places CSV file\n",
    "PLACES_PATH = 'places.csv'\n",
    "# Optional: configure the start and end dates of data you want to consider, e.g. date(2020, 1, 1)\n",
    "START_DATE = None\n",
    "END_DATE = None\n",
    "# Optional: configure whether to exclude data that is low confidence\n",
    "EXCLUDE_LOW_CONFIDENCE = False"
   ]
  },
  {
   "cell_type": "code",
   "execution_count": 46,
   "id": "3a4261c4",
   "metadata": {},
   "outputs": [
    {
     "name": "stdout",
     "output_type": "stream",
     "text": [
      "Data has 2402 rows and 8 columns\n",
      "<class 'pandas.core.frame.DataFrame'>\n",
      "Int64Index: 2402 entries, 0 to 2585\n",
      "Data columns (total 8 columns):\n",
      " #   Column           Non-Null Count  Dtype              \n",
      "---  ------           --------------  -----              \n",
      " 0   lat_e7           2402 non-null   int64              \n",
      " 1   lon_e7           2402 non-null   int64              \n",
      " 2   address          2399 non-null   object             \n",
      " 3   name             1293 non-null   object             \n",
      " 4   place_id         2402 non-null   object             \n",
      " 5   start_timestamp  2402 non-null   datetime64[ns, UTC]\n",
      " 6   end_timestamp    2402 non-null   datetime64[ns, UTC]\n",
      " 7   confidence       2402 non-null   object             \n",
      "dtypes: datetime64[ns, UTC](2), int64(2), object(4)\n",
      "memory usage: 168.9+ KB\n"
     ]
    },
    {
     "data": {
      "text/html": [
       "<div>\n",
       "<style scoped>\n",
       "    .dataframe tbody tr th:only-of-type {\n",
       "        vertical-align: middle;\n",
       "    }\n",
       "\n",
       "    .dataframe tbody tr th {\n",
       "        vertical-align: top;\n",
       "    }\n",
       "\n",
       "    .dataframe thead th {\n",
       "        text-align: right;\n",
       "    }\n",
       "</style>\n",
       "<table border=\"1\" class=\"dataframe\">\n",
       "  <thead>\n",
       "    <tr style=\"text-align: right;\">\n",
       "      <th></th>\n",
       "      <th>lat_e7</th>\n",
       "      <th>lon_e7</th>\n",
       "      <th>address</th>\n",
       "      <th>name</th>\n",
       "      <th>place_id</th>\n",
       "      <th>start_timestamp</th>\n",
       "      <th>end_timestamp</th>\n",
       "      <th>confidence</th>\n",
       "    </tr>\n",
       "  </thead>\n",
       "  <tbody>\n",
       "    <tr>\n",
       "      <th>0</th>\n",
       "      <td>423563340</td>\n",
       "      <td>-710623650</td>\n",
       "      <td>Tremont St &amp; Park Street &amp;, Winter St, Boston,...</td>\n",
       "      <td>Park Street</td>\n",
       "      <td>ChIJOVayyJxw44kR5912flrB2lo</td>\n",
       "      <td>2020-02-29 16:06:02+00:00</td>\n",
       "      <td>2020-02-29 16:07:11+00:00</td>\n",
       "      <td>MEDIUM_CONFIDENCE</td>\n",
       "    </tr>\n",
       "    <tr>\n",
       "      <th>1</th>\n",
       "      <td>423554331</td>\n",
       "      <td>-710640442</td>\n",
       "      <td>115 Boylston St, Boston, MA 02116, USA</td>\n",
       "      <td>Boston Common</td>\n",
       "      <td>ChIJKyNuvJ1w44kRBE-pe_yDhj8</td>\n",
       "      <td>2020-02-29 16:07:11+00:00</td>\n",
       "      <td>2020-02-29 19:32:15.976000+00:00</td>\n",
       "      <td>MEDIUM_CONFIDENCE</td>\n",
       "    </tr>\n",
       "    <tr>\n",
       "      <th>2</th>\n",
       "      <td>423514766</td>\n",
       "      <td>-710606782</td>\n",
       "      <td>52 Beach St, Boston, MA 02111, USA</td>\n",
       "      <td>Gourmet Dumpling House</td>\n",
       "      <td>ChIJKzmwPXh644kRI5Te9D3YWBE</td>\n",
       "      <td>2020-02-29 19:32:15.976000+00:00</td>\n",
       "      <td>2020-02-29 21:29:18.718000+00:00</td>\n",
       "      <td>MEDIUM_CONFIDENCE</td>\n",
       "    </tr>\n",
       "    <tr>\n",
       "      <th>3</th>\n",
       "      <td>424309368</td>\n",
       "      <td>-713112209</td>\n",
       "      <td>51 Sandy Pond Rd, Lincoln, MA 01773, USA</td>\n",
       "      <td>deCordova Sculpture Park and Museum</td>\n",
       "      <td>ChIJaUcc1Qqb44kRCHDCI4YhVhQ</td>\n",
       "      <td>2020-06-06 18:12:18.624000+00:00</td>\n",
       "      <td>2020-06-06 18:50:50.723000+00:00</td>\n",
       "      <td>HIGH_CONFIDENCE</td>\n",
       "    </tr>\n",
       "    <tr>\n",
       "      <th>4</th>\n",
       "      <td>424609243</td>\n",
       "      <td>-711637293</td>\n",
       "      <td>368 Cambridge Rd, Woburn, MA 01801, USA</td>\n",
       "      <td>Horn Pond Plaza</td>\n",
       "      <td>ChIJf_EUYMF144kRSohLVwws91Y</td>\n",
       "      <td>2020-06-20 18:48:09.499000+00:00</td>\n",
       "      <td>2020-06-20 20:04:03.594000+00:00</td>\n",
       "      <td>HIGH_CONFIDENCE</td>\n",
       "    </tr>\n",
       "  </tbody>\n",
       "</table>\n",
       "</div>"
      ],
      "text/plain": [
       "      lat_e7     lon_e7                                            address  \\\n",
       "0  423563340 -710623650  Tremont St & Park Street &, Winter St, Boston,...   \n",
       "1  423554331 -710640442             115 Boylston St, Boston, MA 02116, USA   \n",
       "2  423514766 -710606782                 52 Beach St, Boston, MA 02111, USA   \n",
       "3  424309368 -713112209           51 Sandy Pond Rd, Lincoln, MA 01773, USA   \n",
       "4  424609243 -711637293            368 Cambridge Rd, Woburn, MA 01801, USA   \n",
       "\n",
       "                                  name                     place_id  \\\n",
       "0                          Park Street  ChIJOVayyJxw44kR5912flrB2lo   \n",
       "1                        Boston Common  ChIJKyNuvJ1w44kRBE-pe_yDhj8   \n",
       "2               Gourmet Dumpling House  ChIJKzmwPXh644kRI5Te9D3YWBE   \n",
       "3  deCordova Sculpture Park and Museum  ChIJaUcc1Qqb44kRCHDCI4YhVhQ   \n",
       "4                      Horn Pond Plaza  ChIJf_EUYMF144kRSohLVwws91Y   \n",
       "\n",
       "                   start_timestamp                    end_timestamp  \\\n",
       "0        2020-02-29 16:06:02+00:00        2020-02-29 16:07:11+00:00   \n",
       "1        2020-02-29 16:07:11+00:00 2020-02-29 19:32:15.976000+00:00   \n",
       "2 2020-02-29 19:32:15.976000+00:00 2020-02-29 21:29:18.718000+00:00   \n",
       "3 2020-06-06 18:12:18.624000+00:00 2020-06-06 18:50:50.723000+00:00   \n",
       "4 2020-06-20 18:48:09.499000+00:00 2020-06-20 20:04:03.594000+00:00   \n",
       "\n",
       "          confidence  \n",
       "0  MEDIUM_CONFIDENCE  \n",
       "1  MEDIUM_CONFIDENCE  \n",
       "2  MEDIUM_CONFIDENCE  \n",
       "3    HIGH_CONFIDENCE  \n",
       "4    HIGH_CONFIDENCE  "
      ]
     },
     "execution_count": 46,
     "metadata": {},
     "output_type": "execute_result"
    }
   ],
   "source": [
    "places = pd.read_csv(PLACES_PATH, sep='|', encoding='utf-8', parse_dates=['start_timestamp', 'end_timestamp'])\n",
    "\n",
    "# Filter out rows that don't match the configured settings\n",
    "if START_DATE:\n",
    "    places = places[places['start_timestamp'].dt.date >= START_DATE]\n",
    "if END_DATE:\n",
    "    places = places[places['end_timestamp'].dt.date <= END_DATE]\n",
    "if EXCLUDE_LOW_CONFIDENCE:\n",
    "    places = places[places['confidence'] != 'LOW_CONFIDENCE']\n",
    "\n",
    "print(f'Data has {places.shape[0]} rows and {places.shape[1]} columns')\n",
    "places.info()"
   ]
  },
  {
   "cell_type": "code",
   "execution_count": 47,
   "id": "398c4388",
   "metadata": {},
   "outputs": [
    {
     "name": "stdout",
     "output_type": "stream",
     "text": [
      "Number of records, by level of confidence\n"
     ]
    },
    {
     "data": {
      "text/plain": [
       "HIGH_CONFIDENCE      1565\n",
       "MEDIUM_CONFIDENCE     837\n",
       "Name: confidence, dtype: int64"
      ]
     },
     "execution_count": 47,
     "metadata": {},
     "output_type": "execute_result"
    }
   ],
   "source": [
    "print('Number of records, by level of confidence')\n",
    "places['confidence'].value_counts()"
   ]
  },
  {
   "cell_type": "code",
   "execution_count": 41,
   "id": "c877376a",
   "metadata": {},
   "outputs": [
    {
     "name": "stdout",
     "output_type": "stream",
     "text": [
      "Top ten places, by number of records\n"
     ]
    },
    {
     "data": {
      "text/plain": [
       "Tennis club Augsburg e.V.      135\n",
       "rutaNatur                       56\n",
       "GALERIA Augsburg                54\n",
       "GALERIA (Karstadt) Augsburg     49\n",
       "Munich Central Station          46\n",
       "Augsburg                        41\n",
       "Augsburg Bohus Center           28\n",
       "QPLIX GmbH                      26\n",
       "REWE                            26\n",
       "Königsplatz                     25\n",
       "Name: name, dtype: int64"
      ]
     },
     "execution_count": 41,
     "metadata": {},
     "output_type": "execute_result"
    }
   ],
   "source": [
    "print('Top ten places, by number of records')\n",
    "places['name'].value_counts()[:10]"
   ]
  },
  {
   "cell_type": "code",
   "execution_count": 42,
   "id": "88fcfc18",
   "metadata": {},
   "outputs": [
    {
     "name": "stdout",
     "output_type": "stream",
     "text": [
      "Top ten places, by duration:\n"
     ]
    },
    {
     "data": {
      "text/plain": [
       "name\n",
       "Tennis club Augsburg e.V.             8 days 23:42:13.158000\n",
       "QPLIX GmbH                            4 days 16:18:07.514000\n",
       "Hôtel La Bastide Saint Martin         2 days 01:17:25.617000\n",
       "Hotel Royal Plaza                     2 days 00:59:05.271000\n",
       "Hôtel Restaurant Campanile Manosque   1 days 22:07:09.385000\n",
       "Augsburg Bohus Center                 1 days 09:23:16.059000\n",
       "Outdoorhotel Jäger von Fall           1 days 08:11:10.960000\n",
       "Residenza Elisabetta                  1 days 07:53:32.441000\n",
       "Résidence Bellevue                    1 days 02:23:10.201000\n",
       "Hôtel & Spa Les Mouettes              0 days 22:10:40.309000\n",
       "Name: duration, dtype: timedelta64[ns]"
      ]
     },
     "execution_count": 42,
     "metadata": {},
     "output_type": "execute_result"
    }
   ],
   "source": [
    "# Calculate time spent per place.\n",
    "# Note: this may provide seemingly strange results. \n",
    "# Personal addresses (where you live) likely don't have a \"name\", and\n",
    "# therefore won't show up in the results. To see them, group by 'address'\n",
    "print('Top ten places, by duration:')\n",
    "places['duration'] = places['end_timestamp'] - places['start_timestamp']\n",
    "time_spent = places.groupby('name')['duration'].sum()\n",
    "time_spent.sort_values(inplace=True, ascending=False)\n",
    "time_spent[:10]"
   ]
  },
  {
   "cell_type": "code",
   "execution_count": null,
   "id": "00219315",
   "metadata": {},
   "outputs": [],
   "source": [
    "# TODO: countries"
   ]
  },
  {
   "cell_type": "code",
   "execution_count": null,
   "id": "56925060",
   "metadata": {},
   "outputs": [],
   "source": []
  }
 ],
 "metadata": {
  "kernelspec": {
   "display_name": "Python 3 (ipykernel)",
   "language": "python",
   "name": "python3"
  },
  "language_info": {
   "codemirror_mode": {
    "name": "ipython",
    "version": 3
   },
   "file_extension": ".py",
   "mimetype": "text/x-python",
   "name": "python",
   "nbconvert_exporter": "python",
   "pygments_lexer": "ipython3",
   "version": "3.11.0"
  }
 },
 "nbformat": 4,
 "nbformat_minor": 5
}
