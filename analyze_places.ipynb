{
 "cells": [
  {
   "cell_type": "markdown",
   "id": "847367d4",
   "metadata": {},
   "source": [
    "# Places Analysis\n",
    "In this notebook we'll analyze the Google \"PlaceVisit\" data using [pandas](https://pandas.pydata.org/) and [matplotlib](https://matplotlib.org/). We'll then use the [bokeh](https://docs.bokeh.org) library to visualize the data using the Google Maps API."
   ]
  },
  {
   "cell_type": "code",
   "execution_count": null,
   "id": "26f6f8cc",
   "metadata": {},
   "outputs": [],
   "source": [
    "# Copyright 2023 Google LLC\n",
    "#\n",
    "# Licensed under the Apache License, Version 2.0 (the \"License\");\n",
    "# you may not use this file except in compliance with the License.\n",
    "# You may obtain a copy of the License at\n",
    "#\n",
    "#     https://www.apache.org/licenses/LICENSE-2.0\n",
    "#\n",
    "# Unless required by applicable law or agreed to in writing, software\n",
    "# distributed under the License is distributed on an \"AS IS\" BASIS,\n",
    "# WITHOUT WARRANTIES OR CONDITIONS OF ANY KIND, either express or implied.\n",
    "# See the License for the specific language governing permissions and\n",
    "# limitations under the License.\n",
    "import pandas as pd\n",
    "from matplotlib import pyplot as plt\n",
    "from datetime import date\n",
    "from bokeh.io import show, output_notebook\n",
    "from bokeh.plotting import gmap\n",
    "from bokeh.models import GMapOptions, ColumnDataSource\n",
    "\n",
    "# Configure bokeh to display the generated maps within the Jupyter notebook.\n",
    "output_notebook()\n",
    "\n",
    "# Enter your Google Maps API key here.\n",
    "# See https://developers.google.com/maps/documentation/embed/get-api-key#create-api-keys\n",
    "API_KEY = r'<ENTER YOUR KEY>'\n",
    "\n",
    "# Set this to the name of your \"places\" CSV file.\n",
    "PLACES_PATH = 'places.csv'\n",
    "# Optional: configure the start and end dates of data you want to consider.\n",
    "# `start_date` is inclusive, `end_date` exclusive.\n",
    "START_DATE = date(2020, 9, 7)\n",
    "END_DATE = date(2022, 11, 1)\n",
    "# Optional: configure whether to exclude low-confidence data.\n",
    "EXCLUDE_LOW_CONFIDENCE = False"
   ]
  },
  {
   "cell_type": "code",
   "execution_count": 7,
   "id": "0c2b2515",
   "metadata": {},
   "outputs": [
    {
     "name": "stdout",
     "output_type": "stream",
     "text": [
      "Original data has 2586 rows and 8 columns.\n",
      "Data after filtering has 2515 rows and 8 columns.\n"
     ]
    }
   ],
   "source": [
    "places = pd.read_csv(PLACES_PATH, sep='|', encoding='utf-8', parse_dates=['start_timestamp', 'end_timestamp'])\n",
    "print(f'Original data has {places.shape[0]} rows and {places.shape[1]} columns.')\n",
    "\n",
    "# Filter out rows that don't match the configured settings\n",
    "if START_DATE:\n",
    "    places = places[places['start_timestamp'].dt.date >= START_DATE]\n",
    "if END_DATE:\n",
    "    places = places[places['end_timestamp'].dt.date <= END_DATE]\n",
    "if EXCLUDE_LOW_CONFIDENCE:\n",
    "    places = places[places['confidence'] != 'LOW_CONFIDENCE']\n",
    "\n",
    "print(f'Data after filtering has {places.shape[0]} rows and {places.shape[1]} columns.')"
   ]
  },
  {
   "cell_type": "code",
   "execution_count": 8,
   "id": "8dca84b8",
   "metadata": {},
   "outputs": [
    {
     "data": {
      "text/html": [
       "<div>\n",
       "<style scoped>\n",
       "    .dataframe tbody tr th:only-of-type {\n",
       "        vertical-align: middle;\n",
       "    }\n",
       "\n",
       "    .dataframe tbody tr th {\n",
       "        vertical-align: top;\n",
       "    }\n",
       "\n",
       "    .dataframe thead th {\n",
       "        text-align: right;\n",
       "    }\n",
       "</style>\n",
       "<table border=\"1\" class=\"dataframe\">\n",
       "  <thead>\n",
       "    <tr style=\"text-align: right;\">\n",
       "      <th></th>\n",
       "      <th>lat_e7</th>\n",
       "      <th>lon_e7</th>\n",
       "      <th>address</th>\n",
       "      <th>name</th>\n",
       "      <th>place_id</th>\n",
       "      <th>start_timestamp</th>\n",
       "      <th>end_timestamp</th>\n",
       "      <th>confidence</th>\n",
       "    </tr>\n",
       "  </thead>\n",
       "  <tbody>\n",
       "    <tr>\n",
       "      <th>14</th>\n",
       "      <td>483508144</td>\n",
       "      <td>109088730</td>\n",
       "      <td>Professor-Steinbacher-Straße 6A, 86161 Augsbur...</td>\n",
       "      <td>Tennis club Augsburg e.V.</td>\n",
       "      <td>ChIJxfxwmg-YnkcRSIj8Zugybfk</td>\n",
       "      <td>2020-11-06 09:23:07+00:00</td>\n",
       "      <td>2020-11-06 09:25:23.552000+00:00</td>\n",
       "      <td>MEDIUM_CONFIDENCE</td>\n",
       "    </tr>\n",
       "    <tr>\n",
       "      <th>15</th>\n",
       "      <td>483497862</td>\n",
       "      <td>108991614</td>\n",
       "      <td>Bauernfeindstraße 26, 86159 Augsburg, Deutschland</td>\n",
       "      <td>NaN</td>\n",
       "      <td>ChIJj3n4ywmYnkcRnY7Apt2m2lU</td>\n",
       "      <td>2020-11-06 09:31:25.158000+00:00</td>\n",
       "      <td>2020-11-06 12:17:52.914000+00:00</td>\n",
       "      <td>HIGH_CONFIDENCE</td>\n",
       "    </tr>\n",
       "    <tr>\n",
       "      <th>16</th>\n",
       "      <td>483762400</td>\n",
       "      <td>109077700</td>\n",
       "      <td>Oblatterwallstraße 58, 86153 Augsburg, Deutsch...</td>\n",
       "      <td>NaN</td>\n",
       "      <td>ChIJgwbXpVi9nkcRtIXnkJ-sni4</td>\n",
       "      <td>2020-11-06 12:40:26.916000+00:00</td>\n",
       "      <td>2020-11-06 15:13:22+00:00</td>\n",
       "      <td>HIGH_CONFIDENCE</td>\n",
       "    </tr>\n",
       "    <tr>\n",
       "      <th>17</th>\n",
       "      <td>483762982</td>\n",
       "      <td>108950833</td>\n",
       "      <td>Frauentorstraße 53, 86152 Augsburg, Deutschland</td>\n",
       "      <td>NaN</td>\n",
       "      <td>ChIJs4WjK1u9nkcRKeZCaL9PfKo</td>\n",
       "      <td>2020-11-06 15:19:19.698000+00:00</td>\n",
       "      <td>2020-11-06 15:26:19.518000+00:00</td>\n",
       "      <td>MEDIUM_CONFIDENCE</td>\n",
       "    </tr>\n",
       "    <tr>\n",
       "      <th>18</th>\n",
       "      <td>483727500</td>\n",
       "      <td>108967900</td>\n",
       "      <td>Frauentorstraße 1, 86152 Augsburg, Deutschland</td>\n",
       "      <td>Augsburger Dom</td>\n",
       "      <td>ChIJk6gZQ1C9nkcRvvqAoBg-dcU</td>\n",
       "      <td>2020-11-14 12:33:05.728000+00:00</td>\n",
       "      <td>2020-11-14 13:18:13.505000+00:00</td>\n",
       "      <td>LOW_CONFIDENCE</td>\n",
       "    </tr>\n",
       "  </tbody>\n",
       "</table>\n",
       "</div>"
      ],
      "text/plain": [
       "       lat_e7     lon_e7                                            address  \\\n",
       "14  483508144  109088730  Professor-Steinbacher-Straße 6A, 86161 Augsbur...   \n",
       "15  483497862  108991614  Bauernfeindstraße 26, 86159 Augsburg, Deutschland   \n",
       "16  483762400  109077700  Oblatterwallstraße 58, 86153 Augsburg, Deutsch...   \n",
       "17  483762982  108950833    Frauentorstraße 53, 86152 Augsburg, Deutschland   \n",
       "18  483727500  108967900     Frauentorstraße 1, 86152 Augsburg, Deutschland   \n",
       "\n",
       "                         name                     place_id  \\\n",
       "14  Tennis club Augsburg e.V.  ChIJxfxwmg-YnkcRSIj8Zugybfk   \n",
       "15                        NaN  ChIJj3n4ywmYnkcRnY7Apt2m2lU   \n",
       "16                        NaN  ChIJgwbXpVi9nkcRtIXnkJ-sni4   \n",
       "17                        NaN  ChIJs4WjK1u9nkcRKeZCaL9PfKo   \n",
       "18             Augsburger Dom  ChIJk6gZQ1C9nkcRvvqAoBg-dcU   \n",
       "\n",
       "                    start_timestamp                    end_timestamp  \\\n",
       "14        2020-11-06 09:23:07+00:00 2020-11-06 09:25:23.552000+00:00   \n",
       "15 2020-11-06 09:31:25.158000+00:00 2020-11-06 12:17:52.914000+00:00   \n",
       "16 2020-11-06 12:40:26.916000+00:00        2020-11-06 15:13:22+00:00   \n",
       "17 2020-11-06 15:19:19.698000+00:00 2020-11-06 15:26:19.518000+00:00   \n",
       "18 2020-11-14 12:33:05.728000+00:00 2020-11-14 13:18:13.505000+00:00   \n",
       "\n",
       "           confidence  \n",
       "14  MEDIUM_CONFIDENCE  \n",
       "15    HIGH_CONFIDENCE  \n",
       "16    HIGH_CONFIDENCE  \n",
       "17  MEDIUM_CONFIDENCE  \n",
       "18     LOW_CONFIDENCE  "
      ]
     },
     "execution_count": 8,
     "metadata": {},
     "output_type": "execute_result"
    }
   ],
   "source": [
    "# Look at a few rows of example data.\n",
    "places.head()"
   ]
  },
  {
   "cell_type": "code",
   "execution_count": 9,
   "id": "3e6401e9",
   "metadata": {},
   "outputs": [
    {
     "data": {
      "text/html": [
       "<div>\n",
       "<style scoped>\n",
       "    .dataframe tbody tr th:only-of-type {\n",
       "        vertical-align: middle;\n",
       "    }\n",
       "\n",
       "    .dataframe tbody tr th {\n",
       "        vertical-align: top;\n",
       "    }\n",
       "\n",
       "    .dataframe thead th {\n",
       "        text-align: right;\n",
       "    }\n",
       "</style>\n",
       "<table border=\"1\" class=\"dataframe\">\n",
       "  <thead>\n",
       "    <tr style=\"text-align: right;\">\n",
       "      <th></th>\n",
       "      <th>lat_e7</th>\n",
       "      <th>lon_e7</th>\n",
       "      <th>address</th>\n",
       "      <th>name</th>\n",
       "      <th>place_id</th>\n",
       "      <th>start_timestamp</th>\n",
       "      <th>end_timestamp</th>\n",
       "      <th>confidence</th>\n",
       "      <th>latitude</th>\n",
       "      <th>longitude</th>\n",
       "    </tr>\n",
       "  </thead>\n",
       "  <tbody>\n",
       "    <tr>\n",
       "      <th>14</th>\n",
       "      <td>483508144</td>\n",
       "      <td>109088730</td>\n",
       "      <td>Professor-Steinbacher-Straße 6A, 86161 Augsbur...</td>\n",
       "      <td>Tennis club Augsburg e.V.</td>\n",
       "      <td>ChIJxfxwmg-YnkcRSIj8Zugybfk</td>\n",
       "      <td>2020-11-06 09:23:07+00:00</td>\n",
       "      <td>2020-11-06 09:25:23.552000+00:00</td>\n",
       "      <td>MEDIUM_CONFIDENCE</td>\n",
       "      <td>48.350814</td>\n",
       "      <td>10.908873</td>\n",
       "    </tr>\n",
       "    <tr>\n",
       "      <th>15</th>\n",
       "      <td>483497862</td>\n",
       "      <td>108991614</td>\n",
       "      <td>Bauernfeindstraße 26, 86159 Augsburg, Deutschland</td>\n",
       "      <td>NaN</td>\n",
       "      <td>ChIJj3n4ywmYnkcRnY7Apt2m2lU</td>\n",
       "      <td>2020-11-06 09:31:25.158000+00:00</td>\n",
       "      <td>2020-11-06 12:17:52.914000+00:00</td>\n",
       "      <td>HIGH_CONFIDENCE</td>\n",
       "      <td>48.349786</td>\n",
       "      <td>10.899161</td>\n",
       "    </tr>\n",
       "    <tr>\n",
       "      <th>16</th>\n",
       "      <td>483762400</td>\n",
       "      <td>109077700</td>\n",
       "      <td>Oblatterwallstraße 58, 86153 Augsburg, Deutsch...</td>\n",
       "      <td>NaN</td>\n",
       "      <td>ChIJgwbXpVi9nkcRtIXnkJ-sni4</td>\n",
       "      <td>2020-11-06 12:40:26.916000+00:00</td>\n",
       "      <td>2020-11-06 15:13:22+00:00</td>\n",
       "      <td>HIGH_CONFIDENCE</td>\n",
       "      <td>48.376240</td>\n",
       "      <td>10.907770</td>\n",
       "    </tr>\n",
       "    <tr>\n",
       "      <th>17</th>\n",
       "      <td>483762982</td>\n",
       "      <td>108950833</td>\n",
       "      <td>Frauentorstraße 53, 86152 Augsburg, Deutschland</td>\n",
       "      <td>NaN</td>\n",
       "      <td>ChIJs4WjK1u9nkcRKeZCaL9PfKo</td>\n",
       "      <td>2020-11-06 15:19:19.698000+00:00</td>\n",
       "      <td>2020-11-06 15:26:19.518000+00:00</td>\n",
       "      <td>MEDIUM_CONFIDENCE</td>\n",
       "      <td>48.376298</td>\n",
       "      <td>10.895083</td>\n",
       "    </tr>\n",
       "    <tr>\n",
       "      <th>18</th>\n",
       "      <td>483727500</td>\n",
       "      <td>108967900</td>\n",
       "      <td>Frauentorstraße 1, 86152 Augsburg, Deutschland</td>\n",
       "      <td>Augsburger Dom</td>\n",
       "      <td>ChIJk6gZQ1C9nkcRvvqAoBg-dcU</td>\n",
       "      <td>2020-11-14 12:33:05.728000+00:00</td>\n",
       "      <td>2020-11-14 13:18:13.505000+00:00</td>\n",
       "      <td>LOW_CONFIDENCE</td>\n",
       "      <td>48.372750</td>\n",
       "      <td>10.896790</td>\n",
       "    </tr>\n",
       "  </tbody>\n",
       "</table>\n",
       "</div>"
      ],
      "text/plain": [
       "       lat_e7     lon_e7                                            address  \\\n",
       "14  483508144  109088730  Professor-Steinbacher-Straße 6A, 86161 Augsbur...   \n",
       "15  483497862  108991614  Bauernfeindstraße 26, 86159 Augsburg, Deutschland   \n",
       "16  483762400  109077700  Oblatterwallstraße 58, 86153 Augsburg, Deutsch...   \n",
       "17  483762982  108950833    Frauentorstraße 53, 86152 Augsburg, Deutschland   \n",
       "18  483727500  108967900     Frauentorstraße 1, 86152 Augsburg, Deutschland   \n",
       "\n",
       "                         name                     place_id  \\\n",
       "14  Tennis club Augsburg e.V.  ChIJxfxwmg-YnkcRSIj8Zugybfk   \n",
       "15                        NaN  ChIJj3n4ywmYnkcRnY7Apt2m2lU   \n",
       "16                        NaN  ChIJgwbXpVi9nkcRtIXnkJ-sni4   \n",
       "17                        NaN  ChIJs4WjK1u9nkcRKeZCaL9PfKo   \n",
       "18             Augsburger Dom  ChIJk6gZQ1C9nkcRvvqAoBg-dcU   \n",
       "\n",
       "                    start_timestamp                    end_timestamp  \\\n",
       "14        2020-11-06 09:23:07+00:00 2020-11-06 09:25:23.552000+00:00   \n",
       "15 2020-11-06 09:31:25.158000+00:00 2020-11-06 12:17:52.914000+00:00   \n",
       "16 2020-11-06 12:40:26.916000+00:00        2020-11-06 15:13:22+00:00   \n",
       "17 2020-11-06 15:19:19.698000+00:00 2020-11-06 15:26:19.518000+00:00   \n",
       "18 2020-11-14 12:33:05.728000+00:00 2020-11-14 13:18:13.505000+00:00   \n",
       "\n",
       "           confidence   latitude  longitude  \n",
       "14  MEDIUM_CONFIDENCE  48.350814  10.908873  \n",
       "15    HIGH_CONFIDENCE  48.349786  10.899161  \n",
       "16    HIGH_CONFIDENCE  48.376240  10.907770  \n",
       "17  MEDIUM_CONFIDENCE  48.376298  10.895083  \n",
       "18     LOW_CONFIDENCE  48.372750  10.896790  "
      ]
     },
     "execution_count": 9,
     "metadata": {},
     "output_type": "execute_result"
    }
   ],
   "source": [
    "# Convert `lat_e7` and `lon_e7` columns to regular latitude and longitude.\n",
    "places['latitude'] = places['lat_e7'] / 10**7\n",
    "places['longitude'] = places['lon_e7'] / 10**7\n",
    "\n",
    "places.head()"
   ]
  },
  {
   "cell_type": "code",
   "execution_count": 10,
   "id": "57ec8576",
   "metadata": {},
   "outputs": [
    {
     "name": "stdout",
     "output_type": "stream",
     "text": [
      "Number of records, by level of confidence\n"
     ]
    },
    {
     "data": {
      "text/plain": [
       "HIGH_CONFIDENCE      1524\n",
       "MEDIUM_CONFIDENCE     811\n",
       "LOW_CONFIDENCE        180\n",
       "Name: confidence, dtype: int64"
      ]
     },
     "execution_count": 10,
     "metadata": {},
     "output_type": "execute_result"
    }
   ],
   "source": [
    "print('Number of records, by level of confidence')\n",
    "places['confidence'].value_counts()"
   ]
  },
  {
   "cell_type": "code",
   "execution_count": 11,
   "id": "27807fee",
   "metadata": {},
   "outputs": [
    {
     "data": {
      "text/html": [
       "<div>\n",
       "<style scoped>\n",
       "    .dataframe tbody tr th:only-of-type {\n",
       "        vertical-align: middle;\n",
       "    }\n",
       "\n",
       "    .dataframe tbody tr th {\n",
       "        vertical-align: top;\n",
       "    }\n",
       "\n",
       "    .dataframe thead th {\n",
       "        text-align: right;\n",
       "    }\n",
       "</style>\n",
       "<table border=\"1\" class=\"dataframe\">\n",
       "  <thead>\n",
       "    <tr style=\"text-align: right;\">\n",
       "      <th></th>\n",
       "      <th>name</th>\n",
       "      <th>address</th>\n",
       "      <th>latitude</th>\n",
       "      <th>longitude</th>\n",
       "      <th>counts</th>\n",
       "    </tr>\n",
       "  </thead>\n",
       "  <tbody>\n",
       "    <tr>\n",
       "      <th>583</th>\n",
       "      <td>NaN</td>\n",
       "      <td>Beethovenstraße 3, 86150 Augsburg, Deutschland</td>\n",
       "      <td>48.363816</td>\n",
       "      <td>10.894314</td>\n",
       "      <td>750</td>\n",
       "    </tr>\n",
       "    <tr>\n",
       "      <th>493</th>\n",
       "      <td>Tennis club Augsburg e.V.</td>\n",
       "      <td>Professor-Steinbacher-Straße 6A, 86161 Augsbur...</td>\n",
       "      <td>48.350814</td>\n",
       "      <td>10.908873</td>\n",
       "      <td>135</td>\n",
       "    </tr>\n",
       "    <tr>\n",
       "      <th>599</th>\n",
       "      <td>NaN</td>\n",
       "      <td>Oblatterwallstraße 58, 86153 Augsburg, Deutsch...</td>\n",
       "      <td>48.376240</td>\n",
       "      <td>10.907770</td>\n",
       "      <td>95</td>\n",
       "    </tr>\n",
       "    <tr>\n",
       "      <th>554</th>\n",
       "      <td>rutaNatur</td>\n",
       "      <td>Prinzregentenstraße 7, 86150 Augsburg, Deutsch...</td>\n",
       "      <td>48.368580</td>\n",
       "      <td>10.890721</td>\n",
       "      <td>55</td>\n",
       "    </tr>\n",
       "    <tr>\n",
       "      <th>171</th>\n",
       "      <td>GALERIA Augsburg</td>\n",
       "      <td>Bürgermeister-Fischer-Straße 6-10, 86150 Augsb...</td>\n",
       "      <td>48.367158</td>\n",
       "      <td>10.896289</td>\n",
       "      <td>50</td>\n",
       "    </tr>\n",
       "  </tbody>\n",
       "</table>\n",
       "</div>"
      ],
      "text/plain": [
       "                          name  \\\n",
       "583                        NaN   \n",
       "493  Tennis club Augsburg e.V.   \n",
       "599                        NaN   \n",
       "554                  rutaNatur   \n",
       "171           GALERIA Augsburg   \n",
       "\n",
       "                                               address   latitude  longitude  \\\n",
       "583     Beethovenstraße 3, 86150 Augsburg, Deutschland  48.363816  10.894314   \n",
       "493  Professor-Steinbacher-Straße 6A, 86161 Augsbur...  48.350814  10.908873   \n",
       "599  Oblatterwallstraße 58, 86153 Augsburg, Deutsch...  48.376240  10.907770   \n",
       "554  Prinzregentenstraße 7, 86150 Augsburg, Deutsch...  48.368580  10.890721   \n",
       "171  Bürgermeister-Fischer-Straße 6-10, 86150 Augsb...  48.367158  10.896289   \n",
       "\n",
       "     counts  \n",
       "583     750  \n",
       "493     135  \n",
       "599      95  \n",
       "554      55  \n",
       "171      50  "
      ]
     },
     "execution_count": 11,
     "metadata": {},
     "output_type": "execute_result"
    }
   ],
   "source": [
    "# Let's take a few columns of data and count the number of visits.\n",
    "# You can see that the first result is my old address in Augsburg.\n",
    "# Each of these rows has an address. However, only those that house a business have an actual name.\n",
    "visits = places.groupby(['name', 'address', 'latitude', 'longitude'], dropna=False)\n",
    "visits = visits.size().reset_index(name='counts')\n",
    "visits.sort_values(by='counts', ascending=False, inplace=True)\n",
    "visits[:5]"
   ]
  },
  {
   "cell_type": "code",
   "execution_count": 12,
   "id": "c877376a",
   "metadata": {},
   "outputs": [
    {
     "name": "stdout",
     "output_type": "stream",
     "text": [
      "Top ten places, by number of records\n"
     ]
    },
    {
     "data": {
      "text/plain": [
       "Tennis club Augsburg e.V.      135\n",
       "rutaNatur                       56\n",
       "GALERIA Augsburg                54\n",
       "GALERIA (Karstadt) Augsburg     49\n",
       "Munich Central Station          46\n",
       "Augsburg                        41\n",
       "Augsburg Bohus Center           28\n",
       "REWE                            26\n",
       "QPLIX GmbH                      26\n",
       "Königsplatz                     25\n",
       "Name: name, dtype: int64"
      ]
     },
     "execution_count": 12,
     "metadata": {},
     "output_type": "execute_result"
    }
   ],
   "source": [
    "# Count the number of times that each *named* place was recorded.\n",
    "# Note that this does not include unnamed entries (e.g., personal addresses).\n",
    "print('Top ten places, by number of records')\n",
    "places['name'].value_counts()[:10]"
   ]
  },
  {
   "cell_type": "code",
   "execution_count": 14,
   "id": "88fcfc18",
   "metadata": {},
   "outputs": [
    {
     "name": "stdout",
     "output_type": "stream",
     "text": [
      "Top ten places, by duration:\n"
     ]
    },
    {
     "data": {
      "text/plain": [
       "name\n",
       "Tennis club Augsburg e.V.             8 days 23:42:13.158000\n",
       "QPLIX GmbH                            4 days 16:18:07.514000\n",
       "Hôtel La Bastide Saint Martin         2 days 01:17:25.617000\n",
       "Hotel Royal Plaza                     2 days 00:59:05.271000\n",
       "Hôtel Restaurant Campanile Manosque   1 days 22:07:09.385000\n",
       "Augsburg Bohus Center                 1 days 09:23:16.059000\n",
       "Outdoorhotel Jäger von Fall           1 days 08:11:10.960000\n",
       "Residenza Elisabetta                  1 days 07:53:32.441000\n",
       "Résidence Bellevue                    1 days 02:23:10.201000\n",
       "Hôtel & Spa Les Mouettes              0 days 22:10:40.309000\n",
       "Name: duration, dtype: timedelta64[ns]"
      ]
     },
     "execution_count": 14,
     "metadata": {},
     "output_type": "execute_result"
    }
   ],
   "source": [
    "# Calculate time spent per *named* place.\n",
    "print('Top ten places, by duration:')\n",
    "places['duration'] = places['end_timestamp'] - places['start_timestamp']\n",
    "time_spent = places.groupby('name')['duration'].sum()\n",
    "time_spent.sort_values(inplace=True, ascending=False)\n",
    "time_spent[:10]"
   ]
  },
  {
   "cell_type": "code",
   "execution_count": 16,
   "id": "00219315",
   "metadata": {},
   "outputs": [
    {
     "data": {
      "text/plain": [
       "Deutschland      2121\n",
       "France            123\n",
       "USA               117\n",
       "Italia             51\n",
       "Österreich         44\n",
       "Belgique           18\n",
       "Česko              12\n",
       "Schweiz            10\n",
       "België              9\n",
       "Czechia             3\n",
       "Inn                 1\n",
       "United States       1\n",
       "Italie              1\n",
       "Germany             1\n",
       "Name: country, dtype: int64"
      ]
     },
     "execution_count": 16,
     "metadata": {},
     "output_type": "execute_result"
    }
   ],
   "source": [
    "# Determine the country of each record based on the address.\n",
    "# The country is the last part of the address, so we apply a lambda\n",
    "# function that splits the address on the comma and takes the last part of it.\n",
    "# This doesn't work perfectly because sometimes the same country has different names. But it's good enough for now.\n",
    "places['country'] = places['address'].dropna().apply(lambda address: address.split(',')[-1].strip())\n",
    "places['country'].value_counts()"
   ]
  },
  {
   "cell_type": "code",
   "execution_count": 17,
   "id": "9880769d",
   "metadata": {},
   "outputs": [
    {
     "data": {
      "text/plain": [
       "Text(0, 0.5, '')"
      ]
     },
     "execution_count": 17,
     "metadata": {},
     "output_type": "execute_result"
    },
    {
     "data": {
      "image/png": "[encoded data removed]",
      "text/plain": [
       "<Figure size 640x480 with 1 Axes>"
      ]
     },
     "metadata": {},
     "output_type": "display_data"
    }
   ],
   "source": [
    "# Plot the number of records per country\n",
    "ax = places['country'].value_counts().sort_values().plot.barh()\n",
    "ax.set_title('Number of PlaceVisits by country')\n",
    "ax.set_xlabel('')\n",
    "ax.set_ylabel('')"
   ]
  },
  {
   "cell_type": "code",
   "execution_count": null,
   "id": "dde57710",
   "metadata": {},
   "outputs": [],
   "source": [
    "# Plot a map centered on Augsburg, Germany but showing most of Europe.\n",
    "gmap_options = GMapOptions(lat=48.3705, lng=10.8978, map_type='roadmap', zoom=5)\n",
    "plot = gmap(API_KEY, gmap_options, title='Europe', width=600, height=600)\n",
    "\n",
    "# Plot each row from the `places` dataframe as a small circle overlaid on the map.\n",
    "# Tell bokeh to use the `longitude` and `latitude` columns of the dataframe. \n",
    "plot.circle('longitude', 'latitude', size=4, alpha=0.2, color='red', source=ColumnDataSource(places))\n",
    "show(plot)"
   ]
  },
  {
   "cell_type": "code",
   "execution_count": null,
   "id": "6cfbe91b",
   "metadata": {},
   "outputs": [],
   "source": [
    "# Create a new column called `num_visits` that counts the number of times\n",
    "# each (latitude, longitude) pair is in the data.\n",
    "visits = places.groupby(['latitude', 'longitude']).size().reset_index(name='num_visits')\n",
    "\n",
    "# For each row of data, calculate the size of the circle that should be shown on the map.\n",
    "# We basically set a minimum size of 4 and a maximum size of 30, based on the number of visits.\n",
    "visits['plot_size'] = visits['num_visits'].apply(lambda row: min(max(row, 4), 30))\n",
    "\n",
    "# Plot a high-zoom map centered on Augsburg, Germany.\n",
    "gmap_options = GMapOptions(lat=48.3705, lng=10.8978, map_type='roadmap', zoom=14)\n",
    "plot = gmap(API_KEY, gmap_options, title='Augsburg', width=600, height=600)\n",
    "plot.circle('longitude', 'latitude', size='plot_size', alpha=0.3, color='red', source=ColumnDataSource(visits))\n",
    "show(plot)"
   ]
  },
  {
   "cell_type": "code",
   "execution_count": null,
   "id": "143a4536",
   "metadata": {},
   "outputs": [],
   "source": []
  }
 ],
 "metadata": {
  "kernelspec": {
   "display_name": "Python 3 (ipykernel)",
   "language": "python",
   "name": "python3"
  },
  "language_info": {
   "codemirror_mode": {
    "name": "ipython",
    "version": 3
   },
   "file_extension": ".py",
   "mimetype": "text/x-python",
   "name": "python",
   "nbconvert_exporter": "python",
   "pygments_lexer": "ipython3",
   "version": "3.11.6"
  }
 },
 "nbformat": 4,
 "nbformat_minor": 5
}
