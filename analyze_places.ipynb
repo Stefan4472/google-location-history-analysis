{
 "cells": [
  {
   "cell_type": "markdown",
   "id": "847367d4",
   "metadata": {},
   "source": [
    "# Places Analysis\n",
    "In this notebook we'll do some analysis of the Google \"PlaceVisit\" data using pandas. We'll plot our results using Matplotlib."
   ]
  },
  {
   "cell_type": "code",
   "execution_count": null,
   "id": "26f6f8cc",
   "metadata": {},
   "outputs": [],
   "source": [
    "%matplotlib inline\n",
    "import pandas as pd\n",
    "from matplotlib import pyplot as plt\n",
    "from datetime import date"
   ]
  },
  {
   "cell_type": "code",
   "execution_count": null,
   "id": "60263c3f",
   "metadata": {
    "scrolled": true
   },
   "outputs": [],
   "source": [
    "\"\"\"Configuration\"\"\"\n",
    "# Set this to the name of your places CSV file\n",
    "PLACES_PATH = 'places.csv'\n",
    "# Optional: configure the start and end dates of data you want to consider, e.g. date(2020, 1, 1)\n",
    "START_DATE = None\n",
    "END_DATE = None\n",
    "# Optional: configure whether to exclude data that is low confidence\n",
    "EXCLUDE_LOW_CONFIDENCE = False"
   ]
  },
  {
   "cell_type": "code",
   "execution_count": null,
   "id": "b71a1928",
   "metadata": {},
   "outputs": [],
   "source": [
    "places = pd.read_csv(PLACES_PATH, sep='|', encoding='utf-8', parse_dates=['start_timestamp', 'end_timestamp'])\n",
    "\n",
    "# Filter out rows that don't match the configured settings\n",
    "if START_DATE:\n",
    "    places = places[places['start_timestamp'].dt.date >= START_DATE]\n",
    "if END_DATE:\n",
    "    places = places[places['end_timestamp'].dt.date <= END_DATE]\n",
    "if EXCLUDE_LOW_CONFIDENCE:\n",
    "    places = places[places['confidence'] != 'LOW_CONFIDENCE']\n",
    "\n",
    "print(f'Data has {places.shape[0]} rows and {places.shape[1]} columns')\n",
    "places.info()"
   ]
  },
  {
   "cell_type": "code",
   "execution_count": null,
   "id": "f76f1ca6",
   "metadata": {},
   "outputs": [],
   "source": [
    "print('Number of records, by level of confidence')\n",
    "places['confidence'].value_counts()"
   ]
  },
  {
   "cell_type": "code",
   "execution_count": null,
   "id": "c877376a",
   "metadata": {},
   "outputs": [],
   "source": [
    "print('Top ten places, by number of records')\n",
    "places['name'].value_counts()[:10]"
   ]
  },
  {
   "cell_type": "code",
   "execution_count": null,
   "id": "88fcfc18",
   "metadata": {},
   "outputs": [],
   "source": [
    "# Calculate time spent per place.\n",
    "# Note: this may provide seemingly strange results. \n",
    "# Personal addresses (where you live) likely don't have a \"name\", and\n",
    "# therefore won't show up in the results. To see them, group by 'address'\n",
    "print('Top ten places, by duration:')\n",
    "places['duration'] = places['end_timestamp'] - places['start_timestamp']\n",
    "time_spent = places.groupby('name')['duration'].sum()\n",
    "time_spent.sort_values(inplace=True, ascending=False)\n",
    "time_spent[:10]"
   ]
  },
  {
   "cell_type": "code",
   "execution_count": null,
   "id": "00219315",
   "metadata": {},
   "outputs": [],
   "source": [
    "# Determine the country of each record based on the address.\n",
    "# The country is the last part of the address, so we apply a lamda\n",
    "# function that splits the address on the comma and takes the last part of it.\n",
    "# Note that applying lambdas to a dataframe is generally much slower than using \n",
    "# built-in transformations, but it shouldn't matter for a dataset of this size.\n",
    "places['country'] = places['address'].dropna().apply(lambda address: address.split()[-1])\n",
    "places['country'].value_counts()"
   ]
  },
  {
   "cell_type": "code",
   "execution_count": null,
   "id": "9bb355d1",
   "metadata": {},
   "outputs": [],
   "source": [
    "# Now plot the number of records per country\n",
    "ax = places['country'].value_counts().sort_values().plot.barh()\n",
    "ax.set_title('Number of PlaceVisits by country')\n",
    "ax.set_xlabel('')\n",
    "ax.set_ylabel('')"
   ]
  },
  {
   "cell_type": "code",
   "execution_count": null,
   "id": "255e2d24",
   "metadata": {},
   "outputs": [],
   "source": []
  }
 ],
 "metadata": {
  "kernelspec": {
   "display_name": "Python 3 (ipykernel)",
   "language": "python",
   "name": "python3"
  },
  "language_info": {
   "codemirror_mode": {
    "name": "ipython",
    "version": 3
   },
   "file_extension": ".py",
   "mimetype": "text/x-python",
   "name": "python",
   "nbconvert_exporter": "python",
   "pygments_lexer": "ipython3",
   "version": "3.11.0"
  }
 },
 "nbformat": 4,
 "nbformat_minor": 5
}
