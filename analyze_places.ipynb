{
 "cells": [
  {
   "cell_type": "markdown",
   "id": "847367d4",
   "metadata": {},
   "source": [
    "# Places Analysis\n",
    "In this notebook we'll do some analysis of the Google \"PlaceVisit\" data using pandas. We'll plot our results using Matplotlib."
   ]
  },
  {
   "cell_type": "code",
   "execution_count": null,
   "id": "26f6f8cc",
   "metadata": {},
   "outputs": [],
   "source": [
    "%matplotlib inline\n",
    "import pandas as pd"
   ]
  },
  {
   "cell_type": "code",
   "execution_count": null,
   "id": "60263c3f",
   "metadata": {
    "scrolled": true
   },
   "outputs": [],
   "source": [
    "# Set this to the name of your places file\n",
    "PLACES_PATH = 'places.csv'\n",
    "# TODO: allow setting start and end date\n",
    "places = pd.read_csv(PLACES_PATH, sep='|', encoding='utf-8', parse_dates=['start_timestamp', 'end_timestamp'])\n",
    "print(f'Data has {places.shape[0]} rows and {places.shape[1]} columns')\n",
    "places.info()"
   ]
  },
  {
   "cell_type": "code",
   "execution_count": null,
   "id": "c877376a",
   "metadata": {},
   "outputs": [],
   "source": [
    "print('Top ten places, by number of records')\n",
    "places['name'].value_counts()[:10]"
   ]
  },
  {
   "cell_type": "code",
   "execution_count": null,
   "id": "88fcfc18",
   "metadata": {},
   "outputs": [],
   "source": [
    "# Calculate time spent per place.\n",
    "# Note: this may provide seemingly strange results. \n",
    "# Personal addresses (where you live) likely don't have a \"name\", and\n",
    "# therefore won't show up in the results. To see them, group by 'address'\n",
    "print('Top ten places, by duration:')\n",
    "places['duration'] = places['end_timestamp'] - places['start_timestamp']\n",
    "time_spent = places.groupby('name')['duration'].sum()\n",
    "time_spent.sort_values(inplace=True, ascending=False)\n",
    "time_spent[:10]"
   ]
  },
  {
   "cell_type": "code",
   "execution_count": null,
   "id": "00219315",
   "metadata": {},
   "outputs": [],
   "source": [
    "# TODO: countries"
   ]
  },
  {
   "cell_type": "code",
   "execution_count": null,
   "id": "e36977e9",
   "metadata": {},
   "outputs": [],
   "source": []
  }
 ],
 "metadata": {
  "kernelspec": {
   "display_name": "Python 3 (ipykernel)",
   "language": "python",
   "name": "python3"
  },
  "language_info": {
   "codemirror_mode": {
    "name": "ipython",
    "version": 3
   },
   "file_extension": ".py",
   "mimetype": "text/x-python",
   "name": "python",
   "nbconvert_exporter": "python",
   "pygments_lexer": "ipython3",
   "version": "3.11.0"
  }
 },
 "nbformat": 4,
 "nbformat_minor": 5
}
