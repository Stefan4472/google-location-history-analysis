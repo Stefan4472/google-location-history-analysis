{
 "cells": [
  {
   "cell_type": "code",
   "execution_count": 51,
   "id": "8315e89d",
   "metadata": {},
   "outputs": [],
   "source": [
    "import pandas as pd\n",
    "from pathlib import Path\n",
    "from history_parser.parser import parse_history, LocationHistory"
   ]
  },
  {
   "cell_type": "markdown",
   "id": "5422e21e",
   "metadata": {},
   "source": [
    "Let's get our data ready."
   ]
  },
  {
   "cell_type": "code",
   "execution_count": 72,
   "id": "662e855c",
   "metadata": {},
   "outputs": [
    {
     "name": "stdout",
     "output_type": "stream",
     "text": [
      "<class 'pandas.core.frame.DataFrame'>\n",
      "RangeIndex: 49 entries, 0 to 48\n",
      "Data columns (total 10 columns):\n",
      " #   Column                  Non-Null Count  Dtype              \n",
      "---  ------                  --------------  -----              \n",
      " 0   start_lat_e7            49 non-null     int64              \n",
      " 1   start_lon_e7            49 non-null     int64              \n",
      " 2   end_lat_e7              49 non-null     int64              \n",
      " 3   end_lon_e7              49 non-null     int64              \n",
      " 4   start_timestamp         49 non-null     datetime64[ns, UTC]\n",
      " 5   end_timestamp           49 non-null     datetime64[ns, UTC]\n",
      " 6   distance                49 non-null     int64              \n",
      " 7   activity_type           49 non-null     object             \n",
      " 8   confidence              49 non-null     object             \n",
      " 9   travel_distance_meters  49 non-null     float64            \n",
      "dtypes: datetime64[ns, UTC](2), float64(1), int64(5), object(2)\n",
      "memory usage: 4.0+ KB\n"
     ]
    }
   ],
   "source": [
    "ACTIVITIES_PATH = 'activities.csv'\n",
    "activities = pd.read_csv(ACTIVITIES_PATH, encoding='utf-8', parse_dates=['start_timestamp', 'end_timestamp'])\n",
    "print(f'Data has {activities.shape[0]} rows and {activities.shape[1]} columns')\n",
    "activities.info()"
   ]
  },
  {
   "cell_type": "code",
   "execution_count": 73,
   "id": "c47f336e",
   "metadata": {},
   "outputs": [
    {
     "name": "stdout",
     "output_type": "stream",
     "text": [
      "Data has 49 rows and 10 columns\n"
     ]
    },
    {
     "data": {
      "text/html": [
       "<div>\n",
       "<style scoped>\n",
       "    .dataframe tbody tr th:only-of-type {\n",
       "        vertical-align: middle;\n",
       "    }\n",
       "\n",
       "    .dataframe tbody tr th {\n",
       "        vertical-align: top;\n",
       "    }\n",
       "\n",
       "    .dataframe thead th {\n",
       "        text-align: right;\n",
       "    }\n",
       "</style>\n",
       "<table border=\"1\" class=\"dataframe\">\n",
       "  <thead>\n",
       "    <tr style=\"text-align: right;\">\n",
       "      <th></th>\n",
       "      <th>start_lat_e7</th>\n",
       "      <th>start_lon_e7</th>\n",
       "      <th>end_lat_e7</th>\n",
       "      <th>end_lon_e7</th>\n",
       "      <th>start_timestamp</th>\n",
       "      <th>end_timestamp</th>\n",
       "      <th>distance</th>\n",
       "      <th>activity_type</th>\n",
       "      <th>confidence</th>\n",
       "      <th>travel_distance_meters</th>\n",
       "    </tr>\n",
       "  </thead>\n",
       "  <tbody>\n",
       "    <tr>\n",
       "      <th>0</th>\n",
       "      <td>483638218</td>\n",
       "      <td>108943138</td>\n",
       "      <td>483666230</td>\n",
       "      <td>108961275</td>\n",
       "      <td>2022-09-01 12:07:28.804000+00:00</td>\n",
       "      <td>2022-09-01 12:15:31.914000+00:00</td>\n",
       "      <td>375</td>\n",
       "      <td>WALKING</td>\n",
       "      <td>HIGH</td>\n",
       "      <td>492.879961</td>\n",
       "    </tr>\n",
       "    <tr>\n",
       "      <th>1</th>\n",
       "      <td>483666060</td>\n",
       "      <td>108958319</td>\n",
       "      <td>483643566</td>\n",
       "      <td>108949647</td>\n",
       "      <td>2022-09-01 12:33:48.940000+00:00</td>\n",
       "      <td>2022-09-01 12:37:40.913000+00:00</td>\n",
       "      <td>270</td>\n",
       "      <td>WALKING</td>\n",
       "      <td>HIGH</td>\n",
       "      <td>386.340018</td>\n",
       "    </tr>\n",
       "    <tr>\n",
       "      <th>2</th>\n",
       "      <td>483645579</td>\n",
       "      <td>108952060</td>\n",
       "      <td>483664767</td>\n",
       "      <td>108949331</td>\n",
       "      <td>2022-09-01 17:23:24.621000+00:00</td>\n",
       "      <td>2022-09-01 17:25:25.815000+00:00</td>\n",
       "      <td>214</td>\n",
       "      <td>WALKING</td>\n",
       "      <td>HIGH</td>\n",
       "      <td>251.005421</td>\n",
       "    </tr>\n",
       "    <tr>\n",
       "      <th>3</th>\n",
       "      <td>483670781</td>\n",
       "      <td>108971635</td>\n",
       "      <td>483646845</td>\n",
       "      <td>108936911</td>\n",
       "      <td>2022-09-01 17:33:27.816000+00:00</td>\n",
       "      <td>2022-09-01 17:51:05.711000+00:00</td>\n",
       "      <td>1356</td>\n",
       "      <td>WALKING</td>\n",
       "      <td>HIGH</td>\n",
       "      <td>1192.562792</td>\n",
       "    </tr>\n",
       "    <tr>\n",
       "      <th>4</th>\n",
       "      <td>483638263</td>\n",
       "      <td>108943149</td>\n",
       "      <td>483507289</td>\n",
       "      <td>109088655</td>\n",
       "      <td>2022-09-02 07:50:39.440000+00:00</td>\n",
       "      <td>2022-09-02 08:01:32.054000+00:00</td>\n",
       "      <td>1930</td>\n",
       "      <td>CYCLING</td>\n",
       "      <td>HIGH</td>\n",
       "      <td>2586.854528</td>\n",
       "    </tr>\n",
       "  </tbody>\n",
       "</table>\n",
       "</div>"
      ],
      "text/plain": [
       "   start_lat_e7  start_lon_e7  end_lat_e7  end_lon_e7  \\\n",
       "0     483638218     108943138   483666230   108961275   \n",
       "1     483666060     108958319   483643566   108949647   \n",
       "2     483645579     108952060   483664767   108949331   \n",
       "3     483670781     108971635   483646845   108936911   \n",
       "4     483638263     108943149   483507289   109088655   \n",
       "\n",
       "                   start_timestamp                    end_timestamp  distance  \\\n",
       "0 2022-09-01 12:07:28.804000+00:00 2022-09-01 12:15:31.914000+00:00       375   \n",
       "1 2022-09-01 12:33:48.940000+00:00 2022-09-01 12:37:40.913000+00:00       270   \n",
       "2 2022-09-01 17:23:24.621000+00:00 2022-09-01 17:25:25.815000+00:00       214   \n",
       "3 2022-09-01 17:33:27.816000+00:00 2022-09-01 17:51:05.711000+00:00      1356   \n",
       "4 2022-09-02 07:50:39.440000+00:00 2022-09-02 08:01:32.054000+00:00      1930   \n",
       "\n",
       "  activity_type confidence  travel_distance_meters  \n",
       "0       WALKING       HIGH              492.879961  \n",
       "1       WALKING       HIGH              386.340018  \n",
       "2       WALKING       HIGH              251.005421  \n",
       "3       WALKING       HIGH             1192.562792  \n",
       "4       CYCLING       HIGH             2586.854528  "
      ]
     },
     "execution_count": 73,
     "metadata": {},
     "output_type": "execute_result"
    }
   ],
   "source": [
    "activities.head()"
   ]
  },
  {
   "cell_type": "code",
   "execution_count": 85,
   "id": "e763c528",
   "metadata": {},
   "outputs": [
    {
     "name": "stdout",
     "output_type": "stream",
     "text": [
      "Number of records per activity type\n"
     ]
    },
    {
     "data": {
      "text/plain": [
       "WALKING                 27\n",
       "CYCLING                  8\n",
       "IN_TRAIN                 8\n",
       "IN_PASSENGER_VEHICLE     4\n",
       "IN_BUS                   1\n",
       "IN_SUBWAY                1\n",
       "Name: activity_type, dtype: int64"
      ]
     },
     "execution_count": 85,
     "metadata": {},
     "output_type": "execute_result"
    }
   ],
   "source": [
    "# Let's count the number of each activity type in the data=\n",
    "print('Number of records per activity type:')\n",
    "activities['activity_type'].value_counts()"
   ]
  },
  {
   "cell_type": "code",
   "execution_count": 86,
   "id": "5bcd0d0b",
   "metadata": {},
   "outputs": [
    {
     "name": "stdout",
     "output_type": "stream",
     "text": [
      "Total distance traveled by activity type:\n"
     ]
    },
    {
     "data": {
      "text/plain": [
       "activity_type\n",
       "CYCLING                  25.297993\n",
       "IN_BUS                    4.633910\n",
       "IN_PASSENGER_VEHICLE     83.148529\n",
       "IN_SUBWAY                 4.435000\n",
       "IN_TRAIN                521.113955\n",
       "WALKING                  37.420584\n",
       "Name: travel_distance_meters, dtype: float64"
      ]
     },
     "execution_count": 86,
     "metadata": {},
     "output_type": "execute_result"
    }
   ],
   "source": [
    "# Calculate total travel distance by activity type *in kilometers*\n",
    "print('Total distance traveled by activity type:')\n",
    "activities.groupby('activity_type')['travel_distance_meters'].sum() / 1000"
   ]
  },
  {
   "cell_type": "code",
   "execution_count": 97,
   "id": "e4bb0c43",
   "metadata": {},
   "outputs": [
    {
     "data": {
      "text/plain": [
       "activity_type\n",
       "CYCLING                0 days 02:03:07.247000\n",
       "IN_BUS                 0 days 00:13:56.103000\n",
       "IN_PASSENGER_VEHICLE   0 days 05:54:25.553000\n",
       "IN_SUBWAY              0 days 00:12:48.495000\n",
       "IN_TRAIN               0 days 05:55:56.508000\n",
       "WALKING                0 days 05:00:19.494000\n",
       "Name: duration, dtype: timedelta64[ns]"
      ]
     },
     "execution_count": 97,
     "metadata": {},
     "output_type": "execute_result"
    }
   ],
   "source": [
    "# Calculate total travel time by activity type *in hours*\n",
    "print('Total time spent traveling by activity type:')\n",
    "activities['duration'] = activities['end_timestamp'] - activities['start_timestamp']\n",
    "activities.groupby('activity_type')['duration'].sum().dt.total_sec\n",
    "# Note: we can also calculate the number of hours using the following:\n",
    "# activities.groupby('activity_type')['duration'].sum().dt.total_seconds() / 3600"
   ]
  },
  {
   "cell_type": "code",
   "execution_count": null,
   "id": "310d0ea1",
   "metadata": {},
   "outputs": [],
   "source": []
  }
 ],
 "metadata": {
  "kernelspec": {
   "display_name": "Python 3 (ipykernel)",
   "language": "python",
   "name": "python3"
  },
  "language_info": {
   "codemirror_mode": {
    "name": "ipython",
    "version": 3
   },
   "file_extension": ".py",
   "mimetype": "text/x-python",
   "name": "python",
   "nbconvert_exporter": "python",
   "pygments_lexer": "ipython3",
   "version": "3.9.13"
  }
 },
 "nbformat": 4,
 "nbformat_minor": 5
}
