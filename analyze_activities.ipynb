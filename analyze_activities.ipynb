{
 "cells": [
  {
   "cell_type": "markdown",
   "id": "941b0942",
   "metadata": {},
   "source": [
    "# Activity Analysis\n",
    "In this notebook we'll do some analysis of the Google \"ActivitySegments\" data using pandas. We'll plot our results using Matplotlib."
   ]
  },
  {
   "cell_type": "code",
   "execution_count": 30,
   "id": "8315e89d",
   "metadata": {},
   "outputs": [],
   "source": [
    "%matplotlib inline\n",
    "import pandas as pd"
   ]
  },
  {
   "cell_type": "code",
   "execution_count": 40,
   "id": "2849b6cf",
   "metadata": {},
   "outputs": [],
   "source": [
    "# Set this to the name of your activities file\n",
    "ACTIVITIES_PATH = 'activities.csv'\n",
    "# Optional: configure the start and end dates of data you want to consider, e.g. date(2020, 1, 1)\n",
    "START_DATE = None\n",
    "END_DATE = None\n",
    "# Optional: configure whether to exclude data that is low confidence\n",
    "EXCLUDE_LOW_CONFIDENCE = True"
   ]
  },
  {
   "cell_type": "code",
   "execution_count": 41,
   "id": "662e855c",
   "metadata": {},
   "outputs": [
    {
     "name": "stdout",
     "output_type": "stream",
     "text": [
      "Data has 2473 rows and 10 columns\n",
      "<class 'pandas.core.frame.DataFrame'>\n",
      "Int64Index: 2473 entries, 0 to 2745\n",
      "Data columns (total 10 columns):\n",
      " #   Column           Non-Null Count  Dtype              \n",
      "---  ------           --------------  -----              \n",
      " 0   start_lat_e7     2473 non-null   int64              \n",
      " 1   start_lon_e7     2473 non-null   int64              \n",
      " 2   end_lat_e7       2473 non-null   int64              \n",
      " 3   end_lon_e7       2473 non-null   int64              \n",
      " 4   start_timestamp  2473 non-null   datetime64[ns, UTC]\n",
      " 5   end_timestamp    2473 non-null   datetime64[ns, UTC]\n",
      " 6   distance         2470 non-null   float64            \n",
      " 7   activity_type    2473 non-null   object             \n",
      " 8   confidence       2473 non-null   object             \n",
      " 9   travel_distance  2437 non-null   float64            \n",
      "dtypes: datetime64[ns, UTC](2), float64(2), int64(4), object(2)\n",
      "memory usage: 212.5+ KB\n"
     ]
    }
   ],
   "source": [
    "activities = pd.read_csv(ACTIVITIES_PATH, sep='|', encoding='utf-8', parse_dates=['start_timestamp', 'end_timestamp'])\n",
    "\n",
    "# Filter out rows that don't match the configured settings\n",
    "if START_DATE:\n",
    "    activities = activities[activities['start_timestamp'].dt.date >= START_DATE]\n",
    "if END_DATE:\n",
    "    activities = activities[activities['end_timestamp'].dt.date <= END_DATE]\n",
    "if EXCLUDE_LOW_CONFIDENCE:\n",
    "    activities = activities[activities['confidence'] != 'LOW']\n",
    "\n",
    "print(f'Data has {activities.shape[0]} rows and {activities.shape[1]} columns')\n",
    "activities.info()"
   ]
  },
  {
   "cell_type": "code",
   "execution_count": 33,
   "id": "c884fe7f",
   "metadata": {},
   "outputs": [
    {
     "data": {
      "text/html": [
       "<div>\n",
       "<style scoped>\n",
       "    .dataframe tbody tr th:only-of-type {\n",
       "        vertical-align: middle;\n",
       "    }\n",
       "\n",
       "    .dataframe tbody tr th {\n",
       "        vertical-align: top;\n",
       "    }\n",
       "\n",
       "    .dataframe thead th {\n",
       "        text-align: right;\n",
       "    }\n",
       "</style>\n",
       "<table border=\"1\" class=\"dataframe\">\n",
       "  <thead>\n",
       "    <tr style=\"text-align: right;\">\n",
       "      <th></th>\n",
       "      <th>start_lat_e7</th>\n",
       "      <th>start_lon_e7</th>\n",
       "      <th>end_lat_e7</th>\n",
       "      <th>end_lon_e7</th>\n",
       "      <th>start_timestamp</th>\n",
       "      <th>end_timestamp</th>\n",
       "      <th>distance</th>\n",
       "      <th>activity_type</th>\n",
       "      <th>confidence</th>\n",
       "      <th>travel_distance</th>\n",
       "    </tr>\n",
       "  </thead>\n",
       "  <tbody>\n",
       "    <tr>\n",
       "      <th>0</th>\n",
       "      <td>423941900</td>\n",
       "      <td>-711423034</td>\n",
       "      <td>424628359</td>\n",
       "      <td>-712394941</td>\n",
       "      <td>2020-02-29 21:29:18.718000+00:00</td>\n",
       "      <td>2020-02-29 21:43:16+00:00</td>\n",
       "      <td>16228.0</td>\n",
       "      <td>IN_PASSENGER_VEHICLE</td>\n",
       "      <td>HIGH</td>\n",
       "      <td>17336.343582</td>\n",
       "    </tr>\n",
       "    <tr>\n",
       "      <th>1</th>\n",
       "      <td>424625171</td>\n",
       "      <td>-712394748</td>\n",
       "      <td>424465691</td>\n",
       "      <td>-712345327</td>\n",
       "      <td>2020-06-15 19:15:01.393000+00:00</td>\n",
       "      <td>2020-06-15 19:33:27.865000+00:00</td>\n",
       "      <td>1819.0</td>\n",
       "      <td>IN_PASSENGER_VEHICLE</td>\n",
       "      <td>MEDIUM</td>\n",
       "      <td>2335.875677</td>\n",
       "    </tr>\n",
       "    <tr>\n",
       "      <th>2</th>\n",
       "      <td>424469119</td>\n",
       "      <td>-712348917</td>\n",
       "      <td>424624109</td>\n",
       "      <td>-712493704</td>\n",
       "      <td>2020-06-15 21:25:47.776000+00:00</td>\n",
       "      <td>2020-06-15 21:29:48.845000+00:00</td>\n",
       "      <td>2093.0</td>\n",
       "      <td>IN_PASSENGER_VEHICLE</td>\n",
       "      <td>HIGH</td>\n",
       "      <td>2851.761028</td>\n",
       "    </tr>\n",
       "    <tr>\n",
       "      <th>3</th>\n",
       "      <td>424656105</td>\n",
       "      <td>-712131751</td>\n",
       "      <td>424609243</td>\n",
       "      <td>-711637293</td>\n",
       "      <td>2020-06-20 18:38:19.681000+00:00</td>\n",
       "      <td>2020-06-20 18:48:09.499000+00:00</td>\n",
       "      <td>NaN</td>\n",
       "      <td>IN_PASSENGER_VEHICLE</td>\n",
       "      <td>HIGH</td>\n",
       "      <td>4353.524412</td>\n",
       "    </tr>\n",
       "    <tr>\n",
       "      <th>4</th>\n",
       "      <td>424609821</td>\n",
       "      <td>-711636176</td>\n",
       "      <td>424607915</td>\n",
       "      <td>-712214341</td>\n",
       "      <td>2020-06-20 20:04:03.594000+00:00</td>\n",
       "      <td>2020-06-20 20:12:22.757000+00:00</td>\n",
       "      <td>5142.0</td>\n",
       "      <td>IN_PASSENGER_VEHICLE</td>\n",
       "      <td>HIGH</td>\n",
       "      <td>8032.899733</td>\n",
       "    </tr>\n",
       "  </tbody>\n",
       "</table>\n",
       "</div>"
      ],
      "text/plain": [
       "   start_lat_e7  start_lon_e7  end_lat_e7  end_lon_e7  \\\n",
       "0     423941900    -711423034   424628359  -712394941   \n",
       "1     424625171    -712394748   424465691  -712345327   \n",
       "2     424469119    -712348917   424624109  -712493704   \n",
       "3     424656105    -712131751   424609243  -711637293   \n",
       "4     424609821    -711636176   424607915  -712214341   \n",
       "\n",
       "                   start_timestamp                    end_timestamp  distance  \\\n",
       "0 2020-02-29 21:29:18.718000+00:00        2020-02-29 21:43:16+00:00   16228.0   \n",
       "1 2020-06-15 19:15:01.393000+00:00 2020-06-15 19:33:27.865000+00:00    1819.0   \n",
       "2 2020-06-15 21:25:47.776000+00:00 2020-06-15 21:29:48.845000+00:00    2093.0   \n",
       "3 2020-06-20 18:38:19.681000+00:00 2020-06-20 18:48:09.499000+00:00       NaN   \n",
       "4 2020-06-20 20:04:03.594000+00:00 2020-06-20 20:12:22.757000+00:00    5142.0   \n",
       "\n",
       "          activity_type confidence  travel_distance  \n",
       "0  IN_PASSENGER_VEHICLE       HIGH     17336.343582  \n",
       "1  IN_PASSENGER_VEHICLE     MEDIUM      2335.875677  \n",
       "2  IN_PASSENGER_VEHICLE       HIGH      2851.761028  \n",
       "3  IN_PASSENGER_VEHICLE       HIGH      4353.524412  \n",
       "4  IN_PASSENGER_VEHICLE       HIGH      8032.899733  "
      ]
     },
     "execution_count": 33,
     "metadata": {},
     "output_type": "execute_result"
    }
   ],
   "source": [
    "# See what the first few rows of data look like\n",
    "activities.head()"
   ]
  },
  {
   "cell_type": "code",
   "execution_count": 34,
   "id": "f72c07e3",
   "metadata": {},
   "outputs": [
    {
     "name": "stdout",
     "output_type": "stream",
     "text": [
      "Number of records, by level of confidence\n"
     ]
    },
    {
     "data": {
      "text/plain": [
       "HIGH      2167\n",
       "MEDIUM     306\n",
       "LOW        273\n",
       "Name: confidence, dtype: int64"
      ]
     },
     "execution_count": 34,
     "metadata": {},
     "output_type": "execute_result"
    }
   ],
   "source": [
    "print('Number of records, by level of confidence')\n",
    "activities['confidence'].value_counts()"
   ]
  },
  {
   "cell_type": "code",
   "execution_count": 35,
   "id": "e763c528",
   "metadata": {},
   "outputs": [
    {
     "name": "stdout",
     "output_type": "stream",
     "text": [
      "Number of records per activity type:\n"
     ]
    },
    {
     "data": {
      "text/plain": [
       "WALKING                  1587\n",
       "CYCLING                   489\n",
       "IN_PASSENGER_VEHICLE      280\n",
       "IN_TRAIN                  192\n",
       "IN_TRAM                    84\n",
       "IN_BUS                     40\n",
       "IN_SUBWAY                  28\n",
       "RUNNING                    19\n",
       "UNKNOWN_ACTIVITY_TYPE      19\n",
       "FLYING                      7\n",
       "MOTORCYCLING                1\n",
       "Name: activity_type, dtype: int64"
      ]
     },
     "execution_count": 35,
     "metadata": {},
     "output_type": "execute_result"
    }
   ],
   "source": [
    "print('Number of records per activity type:')\n",
    "num_records = activities['activity_type'].value_counts()\n",
    "num_records"
   ]
  },
  {
   "cell_type": "code",
   "execution_count": 36,
   "id": "5bcd0d0b",
   "metadata": {},
   "outputs": [
    {
     "name": "stdout",
     "output_type": "stream",
     "text": [
      "Total distance traveled by activity type (km):\n"
     ]
    },
    {
     "data": {
      "text/plain": [
       "activity_type\n",
       "MOTORCYCLING                 5.893817\n",
       "RUNNING                     35.192988\n",
       "IN_SUBWAY                  226.433304\n",
       "IN_TRAM                    231.863310\n",
       "CYCLING                   1203.518533\n",
       "WALKING                   1599.552146\n",
       "IN_BUS                    3897.438208\n",
       "IN_PASSENGER_VEHICLE      7887.288409\n",
       "FLYING                   10989.981219\n",
       "UNKNOWN_ACTIVITY_TYPE    13384.307635\n",
       "IN_TRAIN                 17027.939458\n",
       "Name: travel_distance, dtype: float64"
      ]
     },
     "execution_count": 36,
     "metadata": {},
     "output_type": "execute_result"
    }
   ],
   "source": [
    "print('Total distance traveled by activity type (km):')\n",
    "distance = activities.groupby('activity_type')['travel_distance'].sum() / 1000\n",
    "distance.sort_values(inplace=True)\n",
    "distance"
   ]
  },
  {
   "cell_type": "code",
   "execution_count": 37,
   "id": "2b6ba5c8",
   "metadata": {},
   "outputs": [
    {
     "data": {
      "text/plain": [
       "Text(0, 0.5, '')"
      ]
     },
     "execution_count": 37,
     "metadata": {},
     "output_type": "execute_result"
    },
    {
     "data": {
      "image/png": "[encoded data removed]",
      "text/plain": [
       "<Figure size 640x480 with 1 Axes>"
      ]
     },
     "metadata": {},
     "output_type": "display_data"
    }
   ],
   "source": [
    "# Plot travel distance, by activity type\n",
    "ax = distance.plot.barh()\n",
    "ax.set_title('Distance traveled by activity type')\n",
    "ax.set_xlabel('Km')\n",
    "ax.set_ylabel('')"
   ]
  },
  {
   "cell_type": "code",
   "execution_count": 38,
   "id": "e4bb0c43",
   "metadata": {},
   "outputs": [
    {
     "name": "stdout",
     "output_type": "stream",
     "text": [
      "Total time spent traveling by activity type (hours):\n"
     ]
    },
    {
     "data": {
      "text/plain": [
       "activity_type\n",
       "MOTORCYCLING               0.311338\n",
       "IN_SUBWAY                 10.711113\n",
       "IN_TRAM                   22.054648\n",
       "RUNNING                   22.816709\n",
       "FLYING                    58.738277\n",
       "UNKNOWN_ACTIVITY_TYPE     66.033230\n",
       "IN_BUS                    72.313195\n",
       "CYCLING                  155.252575\n",
       "IN_PASSENGER_VEHICLE     217.185568\n",
       "IN_TRAIN                 244.836919\n",
       "WALKING                  473.278386\n",
       "Name: duration, dtype: float64"
      ]
     },
     "execution_count": 38,
     "metadata": {},
     "output_type": "execute_result"
    }
   ],
   "source": [
    "# Calculate total travel time by activity type *in hours*\n",
    "print('Total time spent traveling by activity type (hours):')\n",
    "activities['duration'] = activities['end_timestamp'] - activities['start_timestamp']\n",
    "time_spent = activities.groupby('activity_type')['duration'].sum().dt.total_seconds() / 3600\n",
    "time_spent.sort_values(inplace=True)\n",
    "time_spent"
   ]
  },
  {
   "cell_type": "code",
   "execution_count": 39,
   "id": "4304fa3c",
   "metadata": {},
   "outputs": [
    {
     "data": {
      "text/plain": [
       "Text(0, 0.5, '')"
      ]
     },
     "execution_count": 39,
     "metadata": {},
     "output_type": "execute_result"
    },
    {
     "data": {
      "image/png": "[encoded data removed]",
      "text/plain": [
       "<Figure size 640x480 with 1 Axes>"
      ]
     },
     "metadata": {},
     "output_type": "display_data"
    }
   ],
   "source": [
    "# Plot travel time, by activity type\n",
    "ax = time_spent.plot.barh()\n",
    "ax.set_title('Time spent by activity type')\n",
    "ax.set_xlabel('Hours')\n",
    "ax.set_ylabel('')"
   ]
  },
  {
   "cell_type": "code",
   "execution_count": null,
   "id": "ed1335e8",
   "metadata": {},
   "outputs": [],
   "source": []
  }
 ],
 "metadata": {
  "kernelspec": {
   "display_name": "Python 3 (ipykernel)",
   "language": "python",
   "name": "python3"
  },
  "language_info": {
   "codemirror_mode": {
    "name": "ipython",
    "version": 3
   },
   "file_extension": ".py",
   "mimetype": "text/x-python",
   "name": "python",
   "nbconvert_exporter": "python",
   "pygments_lexer": "ipython3",
   "version": "3.11.0"
  }
 },
 "nbformat": 4,
 "nbformat_minor": 5
}
