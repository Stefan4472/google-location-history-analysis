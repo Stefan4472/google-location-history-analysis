{
 "cells": [
  {
   "cell_type": "markdown",
   "id": "941b0942",
   "metadata": {},
   "source": [
    "# Activity Analysis\n",
    "In this notebook we'll do some analysis of the Google \"ActivitySegments\" data using pandas. We'll plot our results using Matplotlib."
   ]
  },
  {
   "cell_type": "code",
   "execution_count": null,
   "id": "8315e89d",
   "metadata": {},
   "outputs": [],
   "source": [
    "%matplotlib inline\n",
    "import pandas as pd"
   ]
  },
  {
   "cell_type": "code",
   "execution_count": null,
   "id": "c40e85b6",
   "metadata": {},
   "outputs": [],
   "source": [
    "# Set this to the name of your activities file\n",
    "ACTIVITIES_PATH = 'activities.csv'\n",
    "# Optional: configure the start and end dates of data you want to consider, e.g. date(2020, 1, 1)\n",
    "START_DATE = None\n",
    "END_DATE = None\n",
    "# Optional: configure whether to exclude data that is low confidence\n",
    "EXCLUDE_LOW_CONFIDENCE = True"
   ]
  },
  {
   "cell_type": "code",
   "execution_count": null,
   "id": "662e855c",
   "metadata": {},
   "outputs": [],
   "source": [
    "activities = pd.read_csv(ACTIVITIES_PATH, sep='|', encoding='utf-8', parse_dates=['start_timestamp', 'end_timestamp'])\n",
    "\n",
    "# Filter out rows that don't match the configured settings\n",
    "if START_DATE:\n",
    "    activities = activities[activities['start_timestamp'].dt.date >= START_DATE]\n",
    "if END_DATE:\n",
    "    activities = activities[activities['end_timestamp'].dt.date <= END_DATE]\n",
    "if EXCLUDE_LOW_CONFIDENCE:\n",
    "    activities = activities[activities['confidence'] != 'LOW']\n",
    "\n",
    "print(f'Data has {activities.shape[0]} rows and {activities.shape[1]} columns')\n",
    "activities.info()"
   ]
  },
  {
   "cell_type": "code",
   "execution_count": null,
   "id": "c884fe7f",
   "metadata": {},
   "outputs": [],
   "source": [
    "# See what the first few rows of data look like\n",
    "activities.head()"
   ]
  },
  {
   "cell_type": "code",
   "execution_count": null,
   "id": "839dd1e2",
   "metadata": {},
   "outputs": [],
   "source": [
    "print('Number of records, by level of confidence')\n",
    "activities['confidence'].value_counts()"
   ]
  },
  {
   "cell_type": "code",
   "execution_count": null,
   "id": "e763c528",
   "metadata": {},
   "outputs": [],
   "source": [
    "print('Number of records per activity type:')\n",
    "num_records = activities['activity_type'].value_counts()\n",
    "num_records"
   ]
  },
  {
   "cell_type": "code",
   "execution_count": null,
   "id": "5bcd0d0b",
   "metadata": {},
   "outputs": [],
   "source": [
    "print('Total distance traveled by activity type (km):')\n",
    "distance = activities.groupby('activity_type')['travel_distance'].sum() / 1000\n",
    "distance.sort_values(inplace=True)\n",
    "distance"
   ]
  },
  {
   "cell_type": "code",
   "execution_count": null,
   "id": "2b6ba5c8",
   "metadata": {},
   "outputs": [],
   "source": [
    "# Plot travel distance, by activity type\n",
    "ax = distance.plot.barh()\n",
    "ax.set_title('Distance traveled by activity type')\n",
    "ax.set_xlabel('Km')\n",
    "ax.set_ylabel('')"
   ]
  },
  {
   "cell_type": "code",
   "execution_count": null,
   "id": "e4bb0c43",
   "metadata": {},
   "outputs": [],
   "source": [
    "# Calculate total travel time by activity type *in hours*\n",
    "print('Total time spent traveling by activity type (hours):')\n",
    "activities['duration'] = activities['end_timestamp'] - activities['start_timestamp']\n",
    "time_spent = activities.groupby('activity_type')['duration'].sum().dt.total_seconds() / 3600\n",
    "time_spent.sort_values(inplace=True)\n",
    "time_spent"
   ]
  },
  {
   "cell_type": "code",
   "execution_count": null,
   "id": "4304fa3c",
   "metadata": {},
   "outputs": [],
   "source": [
    "# Plot travel time, by activity type\n",
    "ax = time_spent.plot.barh()\n",
    "ax.set_title('Time spent by activity type')\n",
    "ax.set_xlabel('Hours')\n",
    "ax.set_ylabel('')"
   ]
  },
  {
   "cell_type": "code",
   "execution_count": null,
   "id": "2b36c5ba",
   "metadata": {},
   "outputs": [],
   "source": []
  }
 ],
 "metadata": {
  "kernelspec": {
   "display_name": "Python 3 (ipykernel)",
   "language": "python",
   "name": "python3"
  },
  "language_info": {
   "codemirror_mode": {
    "name": "ipython",
    "version": 3
   },
   "file_extension": ".py",
   "mimetype": "text/x-python",
   "name": "python",
   "nbconvert_exporter": "python",
   "pygments_lexer": "ipython3",
   "version": "3.11.0"
  }
 },
 "nbformat": 4,
 "nbformat_minor": 5
}
