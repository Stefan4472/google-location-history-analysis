{
 "cells": [
  {
   "cell_type": "markdown",
   "id": "cd298164",
   "metadata": {},
   "source": [
    "# Activity Analysis\n",
    "In this notebook we'll do some analysis of the Google \"ActivitySegments\" using pandas. We'll plot our results using Matplotlib."
   ]
  },
  {
   "cell_type": "code",
   "execution_count": null,
   "id": "8315e89d",
   "metadata": {},
   "outputs": [],
   "source": [
    "%matplotlib inline\n",
    "import pandas as pd"
   ]
  },
  {
   "cell_type": "code",
   "execution_count": null,
   "id": "662e855c",
   "metadata": {},
   "outputs": [],
   "source": [
    "# Set this to the name of your activities file\n",
    "ACTIVITIES_PATH = 'activities.csv'\n",
    "activities = pd.read_csv(ACTIVITIES_PATH, encoding='utf-8', parse_dates=['start_timestamp', 'end_timestamp'])\n",
    "print(f'Data has {activities.shape[0]} rows and {activities.shape[1]} columns')\n",
    "activities.info()"
   ]
  },
  {
   "cell_type": "code",
   "execution_count": null,
   "id": "ffd2b11d",
   "metadata": {},
   "outputs": [],
   "source": [
    "activities.head()"
   ]
  },
  {
   "cell_type": "code",
   "execution_count": null,
   "id": "e763c528",
   "metadata": {},
   "outputs": [],
   "source": [
    "# Let's count the number of each activity type in the data=\n",
    "print('Number of records per activity type:')\n",
    "num_records = activities['activity_type'].value_counts()\n",
    "num_records"
   ]
  },
  {
   "cell_type": "code",
   "execution_count": null,
   "id": "5bcd0d0b",
   "metadata": {},
   "outputs": [],
   "source": [
    "# Calculate total travel distance by activity type *in kilometers*\n",
    "print('Total distance traveled by activity type:')\n",
    "distance = activities.groupby('activity_type')['travel_distance_meters'].sum() / 1000\n",
    "distance.sort_values(inplace=True)\n",
    "distance"
   ]
  },
  {
   "cell_type": "code",
   "execution_count": null,
   "id": "e01142a3",
   "metadata": {},
   "outputs": [],
   "source": [
    "# Plot travel distance, by activity type\n",
    "ax = distance.plot.barh()\n",
    "ax.set_title('Distance traveled by activity type')\n",
    "ax.set_xlabel('Number of Kilometers')\n",
    "ax.set_ylabel('')"
   ]
  },
  {
   "cell_type": "code",
   "execution_count": null,
   "id": "e4bb0c43",
   "metadata": {},
   "outputs": [],
   "source": [
    "# Calculate total travel time by activity type *in hours*\n",
    "print('Total time spent traveling by activity type:')\n",
    "activities['duration'] = activities['end_timestamp'] - activities['start_timestamp']\n",
    "time_spent = activities.groupby('activity_type')['duration'].sum().dt.total_seconds() / 3600\n",
    "time_spent.sort_values(inplace=True)\n",
    "time_spent"
   ]
  },
  {
   "cell_type": "code",
   "execution_count": null,
   "id": "ed66c294",
   "metadata": {},
   "outputs": [],
   "source": [
    "# Plot travel time, by activity type\n",
    "ax = time_spent.plot.barh()\n",
    "ax.set_title('Time spent by activity type')\n",
    "ax.set_xlabel('Number of Hours')\n",
    "ax.set_ylabel('')"
   ]
  }
 ],
 "metadata": {
  "kernelspec": {
   "display_name": "Python 3 (ipykernel)",
   "language": "python",
   "name": "python3"
  },
  "language_info": {
   "codemirror_mode": {
    "name": "ipython",
    "version": 3
   },
   "file_extension": ".py",
   "mimetype": "text/x-python",
   "name": "python",
   "nbconvert_exporter": "python",
   "pygments_lexer": "ipython3",
   "version": "3.9.13"
  }
 },
 "nbformat": 4,
 "nbformat_minor": 5
}
